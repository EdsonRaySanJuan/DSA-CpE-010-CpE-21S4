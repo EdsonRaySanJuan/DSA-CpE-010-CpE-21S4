{
  "nbformat": 4,
  "nbformat_minor": 0,
  "metadata": {
    "colab": {
      "provenance": [],
      "authorship_tag": "ABX9TyN+4j2hxN9fzlQ5skVPrs+2",
      "include_colab_link": true
    },
    "kernelspec": {
      "name": "python3",
      "display_name": "Python 3"
    },
    "language_info": {
      "name": "python"
    }
  },
  "cells": [
    {
      "cell_type": "markdown",
      "metadata": {
        "id": "view-in-github",
        "colab_type": "text"
      },
      "source": [
        "<a href=\"https://colab.research.google.com/github/EdsonRaySanJuan/DSA-CpE-010-CpE-21S4/blob/main/Exercise_2.ipynb\" target=\"_parent\"><img src=\"https://colab.research.google.com/assets/colab-badge.svg\" alt=\"Open In Colab\"/></a>"
      ]
    },
    {
      "cell_type": "code",
      "execution_count": 6,
      "metadata": {
        "colab": {
          "base_uri": "https://localhost:8080/"
        },
        "id": "f2Xkgx-WjyUl",
        "outputId": "7428fbeb-0228-4dbc-874d-fcffbf2281ee"
      },
      "outputs": [
        {
          "output_type": "stream",
          "name": "stdout",
          "text": [
            "The area of the Rectangle is  1.5\n",
            "The side of the Square is  9\n",
            "The area of the Triangle is  7.5\n"
          ]
        }
      ],
      "source": [
        "class Shape():\n",
        "  def __init__(self, length, width, side, base, height):\n",
        "    self.length = length\n",
        "    self.width = width\n",
        "    self.side = side\n",
        "    self.base = base\n",
        "    self.height = height\n",
        "\n",
        "  def Area_Rectangle(self):\n",
        "    rec = self.length * self.width\n",
        "    return rec\n",
        "\n",
        "  def Area_Square(self):\n",
        "    sq = self.side ** 2\n",
        "    return sq\n",
        "\n",
        "  def Area_Triangle(self):\n",
        "    tri = (self.base * self.height) / 2\n",
        "    return tri\n",
        "\n",
        "class Rectangle():\n",
        "  def __init__(self, height, width):\n",
        "    self.height = height\n",
        "    self.width = width\n",
        "\n",
        "  def Area(self):\n",
        "    return self.height * self.width\n",
        "\n",
        "rectangle = Rectangle(1.5, 1)\n",
        "rectangle.Area()\n",
        "\n",
        "class Square():\n",
        "  def __init__(self, side):\n",
        "    self.side = side\n",
        "\n",
        "  def Area(self):\n",
        "    return self.side ** 2\n",
        "\n",
        "square = Square(3)\n",
        "square.Area()\n",
        "\n",
        "class Triangle():\n",
        "  def __init__(self, base, height):\n",
        "    self.base = base\n",
        "    self.height = height\n",
        "\n",
        "  def Area(self):\n",
        "    return (self.base * self.height) / 2\n",
        "\n",
        "triangle = Triangle(5, 3)\n",
        "triangle.Area()\n",
        "\n",
        "print(\"The area of the Rectangle is \", rectangle.Area())\n",
        "print(\"The side of the Square is \", square.Area())\n",
        "print(\"The area of the Triangle is \", triangle.Area())"
      ]
    }
  ]
}
