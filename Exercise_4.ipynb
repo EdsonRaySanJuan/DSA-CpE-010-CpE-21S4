{
  "nbformat": 4,
  "nbformat_minor": 0,
  "metadata": {
    "colab": {
      "provenance": [],
      "authorship_tag": "ABX9TyOJN4I+EcTWL3MVTqdpAq5S",
      "include_colab_link": true
    },
    "kernelspec": {
      "name": "python3",
      "display_name": "Python 3"
    },
    "language_info": {
      "name": "python"
    }
  },
  "cells": [
    {
      "cell_type": "markdown",
      "metadata": {
        "id": "view-in-github",
        "colab_type": "text"
      },
      "source": [
        "<a href=\"https://colab.research.google.com/github/EdsonRaySanJuan/DSA-CpE-010-CpE-21S4/blob/main/Exercise_4.ipynb\" target=\"_parent\"><img src=\"https://colab.research.google.com/assets/colab-badge.svg\" alt=\"Open In Colab\"/></a>"
      ]
    },
    {
      "cell_type": "code",
      "execution_count": 2,
      "metadata": {
        "colab": {
          "base_uri": "https://localhost:8080/"
        },
        "id": "hFsUcyGeRCB0",
        "outputId": "8b645455-a25d-4fc9-c386-6354166a16cd"
      },
      "outputs": [
        {
          "output_type": "stream",
          "name": "stdout",
          "text": [
            "array('i', [1, 2, 3, 4, 5])\n",
            "array('i', [1, 2, 3, 4, 5])\n",
            "array('i', [1, 2, 3, 4, 5, 1, 2, 3, 4, 5])\n"
          ]
        }
      ],
      "source": [
        "# Example 1\n",
        "import array\n",
        "array.typecodes  # get all typecodes\n",
        "a=array.array('i',[1,2,3,4,5])\n",
        "b=array.array('i',[1,2,3,4,5])\n",
        "print(a)\n",
        "print(b)\n",
        "print(a+b)"
      ]
    },
    {
      "cell_type": "code",
      "source": [
        "#Example 2\n",
        "from array import array # importing array from array module\n",
        "a=array('i',[4,5,6,7])\n",
        "a.insert(1,2)\n",
        "a\n",
        "array('i', [4, 2, 5, 6, 7])\n",
        "a.insert(-1,0)\n",
        "a\n",
        "a.insert(10,-1)\n",
        "a\n",
        "array('i', [4, 2, 5, 6, 7, 0, -1])"
      ],
      "metadata": {
        "colab": {
          "base_uri": "https://localhost:8080/"
        },
        "id": "semJTX5kRHcz",
        "outputId": "eb3fb275-fcb6-4c8f-b366-7bbfddb23578"
      },
      "execution_count": 3,
      "outputs": [
        {
          "output_type": "execute_result",
          "data": {
            "text/plain": [
              "array('i', [4, 2, 5, 6, 7, 0, -1])"
            ]
          },
          "metadata": {},
          "execution_count": 3
        }
      ]
    },
    {
      "cell_type": "code",
      "source": [
        "#Example 3\n",
        "class Node:\n",
        "    def __init__(self,data):\n",
        "        self.data=data\n",
        "        self.next=None\n",
        "class LinkedList:\n",
        "    def __init__(self):\n",
        "        self.head=None\n",
        "\n",
        "class LinkedList:\n",
        "    def __init__(self):\n",
        "      self.head=None\n",
        "\n",
        "    def printdata(self):\n",
        "        temp=self.head\n",
        "        while(temp):\n",
        "            print(temp.data)\n",
        "            temp=temp.next\n",
        "\n",
        "if __name__=='__main__':\n",
        "    list=LinkedList()\n",
        "    list.head=Node(1)\n",
        "    second=Node(2)\n",
        "    third=Node(3)\n",
        "\n",
        "    list.head.next=second\n",
        "    second.next=third\n",
        "\n",
        "\n",
        "list.printdata()"
      ],
      "metadata": {
        "colab": {
          "base_uri": "https://localhost:8080/"
        },
        "id": "lgGKPtVuRQiH",
        "outputId": "7c9af9d0-3314-4887-aa55-d7be10ed82b8"
      },
      "execution_count": 4,
      "outputs": [
        {
          "output_type": "stream",
          "name": "stdout",
          "text": [
            "1\n",
            "2\n",
            "3\n"
          ]
        }
      ]
    }
  ]
}