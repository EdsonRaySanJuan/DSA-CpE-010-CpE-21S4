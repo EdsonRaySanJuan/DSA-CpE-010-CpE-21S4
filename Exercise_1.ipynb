{
  "nbformat": 4,
  "nbformat_minor": 0,
  "metadata": {
    "colab": {
      "provenance": [],
      "authorship_tag": "ABX9TyOZXZHUhlAl/wsEkT682eXS",
      "include_colab_link": true
    },
    "kernelspec": {
      "name": "python3",
      "display_name": "Python 3"
    },
    "language_info": {
      "name": "python"
    }
  },
  "cells": [
    {
      "cell_type": "markdown",
      "metadata": {
        "id": "view-in-github",
        "colab_type": "text"
      },
      "source": [
        "<a href=\"https://colab.research.google.com/github/EdsonRaySanJuan/DSA-CpE-010-CpE-21S4/blob/main/Exercise_1.ipynb\" target=\"_parent\"><img src=\"https://colab.research.google.com/assets/colab-badge.svg\" alt=\"Open In Colab\"/></a>"
      ]
    },
    {
      "cell_type": "markdown",
      "source": [
        "# **Exercise 1 (Class Constructor and Method)**\n",
        "\n",
        "1. Develop a python program that computes the area of the Rectangle shape\n",
        "2. Use Rectangle () as a class name\n",
        "3. Use attributes length and width\n",
        "4. Calculate the Area () of the rectangle\n",
        "5. Display the computed area of a rectangle\n",
        "\n",
        "# **Note: OOP Concepts of computing the area of a rectangle**"
      ],
      "metadata": {
        "id": "NhTszeNHv-yA"
      }
    },
    {
      "cell_type": "code",
      "execution_count": 17,
      "metadata": {
        "colab": {
          "base_uri": "https://localhost:8080/"
        },
        "id": "Ne1BcoDgmrNk",
        "outputId": "64414385-6a2f-4112-bf9b-3ee5ee2470a4"
      },
      "outputs": [
        {
          "output_type": "stream",
          "name": "stdout",
          "text": [
            "Enter length: 9\n",
            "Enter width: 10\n",
            "The Area of the rectangle is  90\n"
          ]
        }
      ],
      "source": [
        "def Rectangle():\n",
        "\n",
        "  # This will input the length and width\n",
        "  length = int(input(\"Enter length: \"))\n",
        "  width = int(input(\"Enter width: \"))\n",
        "\n",
        "  # This will calculate the area\n",
        "  area = length * width\n",
        "\n",
        "  # This will print the output\n",
        "  print(\"The Area of the rectangle is \", area)\n",
        "\n",
        "Rectangle()\n"
      ]
    }
  ]
}