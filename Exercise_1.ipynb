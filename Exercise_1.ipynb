{
  "nbformat": 4,
  "nbformat_minor": 0,
  "metadata": {
    "colab": {
      "provenance": [],
      "authorship_tag": "ABX9TyNYzm9r0hHwOi52iNpLGuwY",
      "include_colab_link": true
    },
    "kernelspec": {
      "name": "python3",
      "display_name": "Python 3"
    },
    "language_info": {
      "name": "python"
    }
  },
  "cells": [
    {
      "cell_type": "markdown",
      "metadata": {
        "id": "view-in-github",
        "colab_type": "text"
      },
      "source": [
        "<a href=\"https://colab.research.google.com/github/EdsonRaySanJuan/DSA-CpE-010-CpE-21S4/blob/main/Exercise_1.ipynb\" target=\"_parent\"><img src=\"https://colab.research.google.com/assets/colab-badge.svg\" alt=\"Open In Colab\"/></a>"
      ]
    },
    {
      "cell_type": "markdown",
      "source": [
        "# **Exercise 1 (Class Constructor and Method)**\n",
        "\n",
        "1. Develop a python program that computes the area of the Rectangle shape\n",
        "2. Use Rectangle () as a class name\n",
        "3. Use attributes length and width\n",
        "4. Calculate the Area () of the rectangle\n",
        "5. Display the computed area of a rectangle\n",
        "\n",
        "**Note: OOP Concepts of computing the area of a rectangle**"
      ],
      "metadata": {
        "id": "rBkCxcm6nCK-"
      }
    },
    {
      "cell_type": "code",
      "execution_count": 10,
      "metadata": {
        "colab": {
          "base_uri": "https://localhost:8080/"
        },
        "id": "-fiRAYY5k63K",
        "outputId": "6e1b277d-6da1-4589-f437-a886d5ae5174"
      },
      "outputs": [
        {
          "output_type": "stream",
          "name": "stdout",
          "text": [
            "The area of the rectangle is  15\n"
          ]
        }
      ],
      "source": [
        "class Rectangle():\n",
        "  def __init__(self, length, width):\n",
        "    self.length = length\n",
        "    self.width = width\n",
        "\n",
        "  def Area(self):\n",
        "    rec = self.length * self.width\n",
        "    return rec\n",
        "\n",
        "rectangle = Rectangle(5, 3)\n",
        "print(\"The area of the rectangle is \", rectangle.Area())"
      ]
    }
  ]
}